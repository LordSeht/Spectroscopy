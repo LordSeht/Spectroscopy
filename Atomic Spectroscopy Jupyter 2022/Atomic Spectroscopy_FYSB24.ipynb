{
 "cells": [
  {
   "cell_type": "markdown",
   "metadata": {},
   "source": [
    "# <span style=\"color:orange\">Atomic Spectroscopy</span>\n",
    "Project-based laboratory exercise in the course Atomic and Nuclear Physics with Applications (FYSB24)\n",
    "### Names: Elliot Winsnes and Eric Svensson\n",
    "## Table of Content\n",
    " [Introduction](#Introduction)\n",
    "* [1.The spectrum of Hydrogen](#Hydrogen)\n",
    "  * [1.1 Open the spectrum](#Hydrogen_Step_1)\n",
    "  * [1.2 Gaussian fit](#Hydrogen_Step_2)\n",
    "  * [1.3 Calculate Rydberg constant](#Hydrogen_Step_3)\n",
    "  * [1.4 Discussion](#Hydrogen_Step_4)\n",
    "* [2.The quantum defect](#quantum_defect)\n",
    "  * [2.1 Open the Na spectrum](#quantum_1)  \n",
    "  * [2.2 Open a saturated spectrum](#quantum_2) \n",
    "  * [2.3 Calculate experimental values for the quantum defect](#quantum_3) \n",
    "  * [2.4 Calculate the vacuum wavelength for the 3p – 8d transition](#quantum_4)  \n",
    "  * [2.4 Discussion](#quantum_5)  \n",
    "* [3.Fine structure](#fine_structure)  \n",
    "  * [3.1 Open file and identify peaks](#fine_structure_1)  \n",
    "  * [3.2 Conduct the analysis](#fine_structure_2)    \n",
    "  * [3.2 Discussion](#fine_structure_3)\n",
    "--------------------------------------------------------------------------------------------------------------\n",
    "\n",
    "## Introduction <a name=\"Introduction\"></a>\n",
    "This Jupyter Notebook is meant to conduct the anaylsis as well as to present the results of the atomic spectroscopy lab. Generally all code provided is a guideline in order to get your analysis started. In case you want to use your own methods, feel free to change as much of the code as  you like. Each of the three tasks starts with the analysis of the data, followed by some calculations and ends with a discussion. The first task provides a lot of the code needed, whereas in the last part most of the coding is up to you. To get you started you can work through the [Introduction Jupyter Notebook on Canvas](https://canvas.education.lu.se/courses/13958/pages/getting-started-with-jupyter-notebook?module_item_id=409993).\n",
    "Analogue to the this you need to import the modules needed.\n",
    "<br>\n",
    "\n",
    "**You have to import the following modules in order to run the code:**\n",
    "\n"
   ]
  },
  {
   "cell_type": "code",
   "execution_count": null,
   "metadata": {},
   "outputs": [],
   "source": [
    "# TODO : remove .py files from the repo that are not explicitly used here!\n",
    "# Packages to access files in the system\n",
    "import sys, os\n",
    "\n",
    "# Package that supports mathmatical operations on arrays\n",
    "import numpy as np  \n",
    "\n",
    "# Package that supports operations for data structures and numeric tables\n",
    "import pandas as pd\n",
    "\n",
    "# Package for plotting; \n",
    "# first line makes plots interactive, \n",
    "# second actually loads the library\n",
    "%matplotlib notebook\n",
    "import matplotlib.pyplot as plt\n",
    "\n",
    "# Function that fits a curve to data \n",
    "from scipy.optimize import curve_fit\n",
    "\n",
    "sys.path.append('./lib')\n",
    "import fittingFunctions"
   ]
  },
  {
   "cell_type": "markdown",
   "metadata": {},
   "source": [
    "--------------------------------------------------------------------------------------------------------------"
   ]
  },
  {
   "cell_type": "markdown",
   "metadata": {},
   "source": [
    "# <span style=\"color:orange\">1. The spectrum of Hydrogen</span> <a name=\"Hydrogen\"></a>\n",
    "## 1.1 The spectrum of Hydrogen<a name=\"Hydrogen_Step_1\"></a>\n",
    "With the function  `read ` from package  `pandas ` one can read the experimental data. To do this, you have to specify the data path and file name accordinlgy in the field below. Please mind that the **absolute path** must be specified with `/` instead of `\\`."
   ]
  },
  {
   "cell_type": "code",
   "execution_count": null,
   "metadata": {
    "scrolled": false
   },
   "outputs": [],
   "source": [
    "# Specify the absolute path for the hydrogen spectrum inside quotation marks:\n",
    "df = pd.read_csv(\"C:/ExampleFolder/ExampleFolder/Hydrogen.txt\", \n",
    "    sep=\";\",    # Here we specify that values are seperated by semicolons.\n",
    "    header=6,   # This skips the first rows of the file containing information about the acquisiton settings\n",
    "                 \n",
    "    # Check if your spectrum txt file contains of 4 or 5 coulumns. If you have 5 coulumns use the adapted 'names'-array the line below.        \n",
    "    names=[\"Wavelength\", \"Count sample\", \"Background\", \"Reference\"])\n",
    "    # names=[\"Wavelength\", \"Count sample\", \"Background\", \"Reference\", \"Corrected for dark\"])\n",
    "\n",
    "df = df.stack().str.replace(',','.').unstack() # Turns the  ',' in the data frame to a point\n",
    "data = df.to_numpy() #Converts the data frame into an Numpy array\n",
    "wavelength = np.array(list(data[:, 0]), dtype=float) # Turns the Numpy 2d array with the wavelenghts in a regular 2D float array\n",
    "counts = np.array(list(data[:, 1]), dtype=float) # If you have saved 5 coulumns, use the 'Corrected for dark values' by changing the '1' to a '4'.\n",
    "\n",
    "plt.figure()\n",
    "plt.plot(wavelength, counts)\n",
    "plt.show()\n",
    "plt.title(\"Hydrogen\")      # set title of the plot\n",
    "plt.xlabel(\"Wavelength\")   # set label for x-axis \n",
    "plt.ylabel(\"Counts\")       # set label for Y-axis "
   ]
  },
  {
   "cell_type": "markdown",
   "metadata": {},
   "source": [
    "## 1.2 Gaussian fit<a name=\"Hydrogen_Step_2\"></a>\n",
    "Perform a Gaussian fit on the peaks in order to exactly determine the position of the peaks. You have to specify the region in which the Gaussian fit shall be performed. Adapt the other parameters (mu_guess, A_guess and sigma_guess) or delete them to successfuly run the fit. "
   ]
  },
  {
   "cell_type": "code",
   "execution_count": null,
   "metadata": {},
   "outputs": [],
   "source": [
    "peak1 = fittingFunctions.perform_Gaussian_fit(x=wavelength, \n",
    "                                              y=counts,      \n",
    "                                              region_start=450,   # bins where to start fitting\n",
    "                                              region_stop=500,    # bins where to stop fitting\n",
    "                                              mu_guess=480,       # guess for the position of peak centroid\n",
    "                                              A_guess=60000,       # guess for the amplitude of the peak\n",
    "                                              sigma_guess=1)      # guess for the sigma"
   ]
  },
  {
   "cell_type": "markdown",
   "metadata": {},
   "source": [
    "Extract the peak position `mu`. Repeat the fit for all the peaks that you found and insert the wavelength in the table below. Identify the transition using the NIST data base. Adapt the table length if you find more than five lines in the spectrum."
   ]
  },
  {
   "cell_type": "code",
   "execution_count": null,
   "metadata": {},
   "outputs": [],
   "source": [
    "# -> TODO <- insert the extracted wavelength here. Add numbers by seperating them with ',' to the previous value.\n",
    "hydrogen_wavelength = ([None , None, None , None, None])\n",
    "# -> TODO <- compare the number with the nist database and identify the transition. Add names by seperating them with ';' to the previous value.\n",
    "hydrogen_transistions=([\"Empty\", \"Empty\", \"Empty\", \"Empty\", \"Empty\"])\n",
    "\n",
    "# Nothing to change below here:\n",
    "pd.DataFrame([hydrogen_transistions, hydrogen_wavelength], columns=['1', '2', '3','4', '5'], index=['Transition', 'Wavelength'])"
   ]
  },
  {
   "cell_type": "markdown",
   "metadata": {},
   "source": [
    "## 1.3 Calculate Rydberg constant<a name=\"Hydrogen_Step_3\"></a>\n",
    "\n",
    "\n",
    "Use your extracted data to determine an experimental value for the [Rydberg constant](https://en.wikipedia.org/wiki/Rydberg_constant) of hydrogen using the following formula:\n",
    "<br>\n",
    "$\\frac{1}{\\lambda_{0}}=R_{H}\\left(\\frac{1}{n_{1}^{2}}-\\frac{1}{n_{2}^{2}}\\right)$\n",
    "<br>\n",
    "where  $n_{1}$ and $n_{2}$ are two consecutive quantum numbers. Use the empty code box below to write your own code to extract the Rydberg constant."
   ]
  },
  {
   "cell_type": "code",
   "execution_count": null,
   "metadata": {},
   "outputs": [],
   "source": [
    "## Write your code here to determine the Rydberg constant"
   ]
  },
  {
   "cell_type": "markdown",
   "metadata": {},
   "source": [
    "## 1.4 Discussion <a name=\"Hydrogen_Step_4\"></a>\n",
    "Discuss your results, describe the procedure used for the experimental determination of the Rydberg constant and compare the experimental value for the Rydberg constant with the value from literature in a brief text below:"
   ]
  },
  {
   "cell_type": "markdown",
   "metadata": {},
   "source": [
    "Discuss your results here."
   ]
  },
  {
   "cell_type": "markdown",
   "metadata": {},
   "source": [
    "--------------------------------------------------------------------------------------------------------------\n",
    "# <span style=\"color:orange\">2. The quantum defect</span> <a name=\"quantum_defect\"></a>\n",
    "Since sodium has a very intense feature, we are going to record two spectra with different integration time. The unsaturated spectrum gives us this intense line. The saturated spectrum will give us the weaker features.\n",
    "## 2.1 Open the full, unsaturated sodium spectrum <a name=\"quantum_1\"></a>\n",
    "Identify as many sodium transitions corresponding to the different spectral lines, for which n=3 is the lower energy level, as possible. Use the Gaussian fit below and enter the values in the provided table further down."
   ]
  },
  {
   "cell_type": "code",
   "execution_count": null,
   "metadata": {
    "scrolled": false
   },
   "outputs": [],
   "source": [
    "# Specify the absolute path for the unsaturated sodium spectrum inside quotation marks:\n",
    "df = pd.read_csv(\"C:/ExampleFolder/ExampleFolder/Sodium_unsaturated.txt\", \n",
    "    sep=\";\",    # Here we specify that values are seperated by semicolons.\n",
    "    header=6,   # This skips the first rows of the file containing information about the acquisiton settings   \n",
    "\n",
    "    # Check if your spectrum txt file contains of 4 or 5 coulumns. If you have 4 coulumns use the adapted 'names'-array the line below.        \n",
    "    # names=[\"Wavelength\", \"Count sample\", \"Background\", \"Reference\"])\n",
    "    names=[\"Wavelength\", \"Count sample\", \"Background\", \"Reference\", \"Corrected for dark\"])\n",
    "\n",
    "df = df.stack().str.replace(',','.').unstack() # Turns the  ',' in the data frame to a point\n",
    "data = df.to_numpy() #Converts the data frame into an Numpy array\n",
    "wavelength = np.array(list(data[:, 0]), dtype=float) #Turns the Numpy 2d array in a regular 2D float array\n",
    "counts = np.array(list(data[:, 1]), dtype=float) # If you have saved 5 coulumns, use the 'Corrected for dark values' by changing the '1' to a '4'.\n",
    "plt.figure()\n",
    "plt.plot(wavelength, counts)\n",
    "plt.show()\n",
    "plt.title(\"Sodium unsaturated\")      # set title of the plot\n",
    "plt.xlabel(\"Wavelength\")   # set label for x-axis \n",
    "plt.xlim(430, 630)         # set range for x-axis\n",
    "plt.ylabel(\"Counts\")       # set label for Y-axis "
   ]
  },
  {
   "cell_type": "markdown",
   "metadata": {},
   "source": [
    "Fit a Gaussian function on the unsaturated data to extract the wavelength of the intense feature in the spectrum."
   ]
  },
  {
   "cell_type": "code",
   "execution_count": null,
   "metadata": {},
   "outputs": [],
   "source": [
    "peak1 = fittingFunctions.perform_Gaussian_fit(x=wavelength, \n",
    "                                              y=counts,      \n",
    "                                              region_start=580,   # bins where to start fitting\n",
    "                                              region_stop=600,    # bins where to stop fitting\n",
    "                                              mu_guess=589,       # guess for the position of peak centroid\n",
    "                                              A_guess=60000,       # guess for the amplitude of the peak\n",
    "                                              sigma_guess=1)      # guess for the sigma"
   ]
  },
  {
   "cell_type": "markdown",
   "metadata": {},
   "source": [
    "## 2.2 Open a saturated spectrum <a name=\"quantum_2\"></a>\n",
    "Identify all the small peaks, which are otherwise hidden in the noise. Again try to find all transitions for which n = 3 is the lower energy level and enter the values in the provided table Fill below under section [2.3](#quantum_3).\n"
   ]
  },
  {
   "cell_type": "code",
   "execution_count": null,
   "metadata": {},
   "outputs": [],
   "source": [
    "# Specify the absolute path for the saturated sodium spectrum inside quotation marks:\n",
    "df = pd.read_csv(\"C:/ExampleFolder/ExampleFolder/Sodium_saturated.txt\", \n",
    "    sep=\";\",    # Here we specify that values are seperated by semicolons.\n",
    "    header=6,   # This skips the first rows of the file containing information about the acquisiton settings\n",
    "\n",
    "    # Check if your spectrum txt file contains of 4 or 5 coulumns. If you have 4 coulumns use the adapted 'names'-array the line below.        \n",
    "    # names=[\"Wavelength\", \"Count sample\", \"Background\", \"Reference\"])\n",
    "    names=[\"Wavelength\", \"Count sample\", \"Background\", \"Reference\", \"Corrected for dark\"])                 \n",
    "                 \n",
    "df = df.stack().str.replace(',','.').unstack() # Turns the  ',' in the data frame to a point\n",
    "data = df.to_numpy() #Converts the data frame into an Numpy array\n",
    "wavelength = np.array(list(data[:, 0]), dtype=float) #Turns the Numpy 2d array in a regular 2D float array\n",
    "counts = np.array(list(data[:, 1]), dtype=float) # If you have saved 5 coulumns, use the 'Corrected for dark values' by changing the '1' to a '4'.\n",
    "\n",
    "plt.figure()\n",
    "plt.plot(wavelength, counts)\n",
    "plt.show()\n",
    "plt.title(\"Sodium saturated\")      # set title of the plot\n",
    "plt.xlabel(\"Wavelength\")   # set label for x-axis \n",
    "plt.xlim(430, 630)         # set range for x-axis\n",
    "plt.ylabel(\"Counts\")       # set label for Y-axis "
   ]
  },
  {
   "cell_type": "markdown",
   "metadata": {},
   "source": [
    "Analogue to the previous tasks, a Gaussian fit is used to determine the central wavelength of the features in the spectrum.\n",
    "Fill in your results in the table below under section [2.3](#quantum_3)."
   ]
  },
  {
   "cell_type": "code",
   "execution_count": null,
   "metadata": {},
   "outputs": [],
   "source": [
    "peak1 = fittingFunctions.perform_Gaussian_fit(x=wavelength, \n",
    "                                              y=counts,      \n",
    "                                              region_start=610,   # bins where to start fitting\n",
    "                                              region_stop=620,    # bins where to stop fitting\n",
    "                                              mu_guess=615,       # guess for the position of peak centroid\n",
    "                                              A_guess=6000,       # guess for the amplitude of the peak\n",
    "                                              sigma_guess=1)      # guess for the sigma"
   ]
  },
  {
   "cell_type": "markdown",
   "metadata": {},
   "source": [
    "## 2.3 Calculate experimental values for the quantum defect <a name=\"quantum_3\"></a>\n",
    "Intentify the transistion, for which n=3 is the lower energy level, using the [NIST data base](https://physics.nist.gov/PhysRefData/ASD/lines_form.html).\n",
    "<br>\n",
    "Calculate experimental values for the quantum defect $\\delta=n-n^{*}$. Find more information about the formula as well as the exact values for the constants in your textbooks, for example: *Foot, C. J. Atomic Physics. Oxford: Oxford University Press, 2005*  or   *A. Thorne, U. Litzén, S. Johansson. Spectrophysics: Principles and Applications. Media-Tryck Lund, 2007.*\n"
   ]
  },
  {
   "cell_type": "code",
   "execution_count": null,
   "metadata": {},
   "outputs": [],
   "source": [
    "### Enter your results in the arrays below:\n",
    "sodium_wavelength = ([None , None, None , None, None])\n",
    "sodium_upperlevel=([\"Empty\", \"Empty\", \"Empty\", \"Empty\", \"Empty\"])\n",
    "sodium_lowerlevel=([\"Empty\", \"Empty\", \"Empty\", \"Empty\", \"Empty\"])\n",
    "\n",
    "pd.DataFrame([sodium_wavelength, sodium_upperlevel, sodium_lowerlevel], columns=['1', '2', '3','4', '5'], index=['Wavelength / nm','Upper level','Lower level'])"
   ]
  },
  {
   "cell_type": "markdown",
   "metadata": {},
   "source": [
    "Use the field below to develop your own code  to calculate the experimental value for the quantum defect. Take the values over into the result table below."
   ]
  },
  {
   "cell_type": "code",
   "execution_count": null,
   "metadata": {},
   "outputs": [],
   "source": [
    "### Write your code here"
   ]
  },
  {
   "cell_type": "code",
   "execution_count": null,
   "metadata": {},
   "outputs": [],
   "source": [
    "### Enter your results in the result table below:\n",
    "Quantum_defect_exp = ([None , None, None , None, None])\n",
    "Quantum_defect_lit = ([None , None, None , None, None])\n",
    "\n",
    "pd.DataFrame([sodium_wavelength, sodium_upperlevel, sodium_lowerlevel, Quantum_defect_exp, Quantum_defect_lit], columns=['1', '2', '3','4', '5'], index=['Wavelength / nm','Upper level','Lower level','Calculated quantum defect','Literature quantum defect'])"
   ]
  },
  {
   "cell_type": "markdown",
   "metadata": {},
   "source": [
    "## 2.4 Calculate the vacuum wavelength for the 3p – 8d transition <a name=\"quantum_4\"></a>\n",
    "Estimate the vacuum wavelength for the transition 3p – 8d in sodium as accurately as possible.\n",
    "Enter the formula that you use here (you can write LaTex code):"
   ]
  },
  {
   "cell_type": "markdown",
   "metadata": {},
   "source": [
    "$Replace\\;this\\;with\\;your\\;equation.$"
   ]
  },
  {
   "cell_type": "markdown",
   "metadata": {},
   "source": [
    "Use the empty code box below to write your own code to calculate the vacuum wavelength:"
   ]
  },
  {
   "cell_type": "code",
   "execution_count": null,
   "metadata": {},
   "outputs": [],
   "source": [
    "### Write your code here."
   ]
  },
  {
   "cell_type": "markdown",
   "metadata": {},
   "source": [
    "## 2.5 Discussion <a name=\"quantum_5\"></a>\n",
    "Discuss your results. Comment, in particular, on the internal order of the energy levels corresponding to different orbitals, and on the underlying physics.Descripe the procedure used for the experimental determination of the quantum defects and the vacuum wavelength for the transition 3p – 8d in sodium, together with the actual calculations. Compare the experimentally determined quantum defects with the ones calculated from the tabulated energy levels."
   ]
  },
  {
   "cell_type": "markdown",
   "metadata": {},
   "source": [
    "Discuss your results here."
   ]
  },
  {
   "cell_type": "markdown",
   "metadata": {},
   "source": [
    "--------------------------------------------------------------------------------------------------------------\n",
    "# <span style=\"color:orange\">3. Fine structure</span> <a name=\"fine_structure\"></a>\n",
    "## 3.1 Open file and identify peaks <a name=\"fine_structure_1\"></a>\n",
    "In this last part you are supposed to conduct more of the analysis on your own. Try to modify the code in order to extract peak height and position."
   ]
  },
  {
   "cell_type": "code",
   "execution_count": null,
   "metadata": {},
   "outputs": [],
   "source": [
    "# Specify the absolute path for the cadmium spectrum inside quotation marks:\n",
    "df = pd.read_csv(\"C:/ExampleFolder/ExampleFolder/cadmium.txt\", \n",
    "    sep=\";\",    # Here we specify that values are seperated by semicolons.\n",
    "    header=6,   # This skips the first rows of the file containing information about the acquisiton settings\n",
    "                 \n",
    "    # Check if your spectrum txt file contains of 4 or 5 coulumns. If you have 4 coulumns use the adapted 'names'-array the line below.        \n",
    "    # names=[\"Wavelength\", \"Count sample\", \"Background\", \"Reference\"])\n",
    "    names=[\"Wavelength\", \"Count sample\", \"Background\", \"Reference\", \"Corrected for dark\"])  \n",
    "\n",
    "df = df.stack().str.replace(',','.').unstack() # Turns the  ',' in the data frame to a point\n",
    "data = df.to_numpy() #Converts the data frame into an Numpy array\n",
    "wavelength = np.array(list(data[:, 0]), dtype=float) #Turns the Numpy 2d array in a regular 2D float array\n",
    "counts = np.array(list(data[:, 4]), dtype=float) # If you have saved 5 coulumns, use the 'Corrected for dark values' by changing the '1' to a '4'.\n",
    "\n",
    "plt.figure()\n",
    "plt.plot(wavelength, counts)\n",
    "plt.show()\n",
    "plt.title(\"Cadmium\")       # set title of the plot\n",
    "plt.xlabel(\"Wavelength\")   # set label for x-axis\n",
    "plt.xlim(338, 362)         # set range for x-axis\n",
    "plt.ylabel(\"Counts\")       # set label for Y-axis "
   ]
  },
  {
   "cell_type": "code",
   "execution_count": null,
   "metadata": {},
   "outputs": [],
   "source": [
    "peak1 = fittingFunctions.perform_Gaussian_fit(x=wavelength, \n",
    "                                              y=counts,      \n",
    "                                              region_start=338,   # bins where to start fitting\n",
    "                                              region_stop=346.7,    # bins where to stop fitting\n",
    "                                              mu_guess=346,       # guess for the position of peak centroid\n",
    "                                              A_guess=45000,       # guess for the amplitude of the peak\n",
    "                                              sigma_guess=1)      # guess for the sigma"
   ]
  },
  {
   "cell_type": "code",
   "execution_count": null,
   "metadata": {},
   "outputs": [],
   "source": [
    "### Write your results here. Mind that you need to extract the peak height as well.\n",
    "Cadmium_wavelength = ([None , None, None , None, None])\n",
    "Cadmium_Intensity=([None , None, None , None, None])\n",
    "\n",
    "pd.DataFrame([Cadmium_wavelength, Cadmium_Intensity], columns=['1', '2', '3','4', '5'], index=['Wavelength / nm','Counts'])"
   ]
  },
  {
   "cell_type": "markdown",
   "metadata": {},
   "source": [
    "## 3.2 Conduct the analysis <a name=\"fine_structure_2\"></a>\n",
    "  * Determine the vacuum wavelengths of as many lines as possible in the wavelength range 340-362 nm of your collected spectra.\n",
    " <br>\n",
    "  * Identify the cadmium transitions corresponding to the different spectral lines and make sure that you find a multiplet with in total six transitions.\n",
    " <br>\n",
    "  * Determine the relative intensities of the six lines in the multiplet. \n",
    "  * Determine the relative energies of the fine structure levels of the two involved triplets\n",
    "<br><br>\n",
    "Use the empty code box below to write your own code. Create a table for all the identified spectral lines including the vacuum wavelengths, the energy levels involved in the transitions and the relative intensities of the transitions. Additionally present the relative energies of the fine structure levels of the two involved triplets. Include a sketch of the energy level diagram where the identified transitions are marked (Images can be imported under the 'Insert' tab above).\n",
    "\n"
   ]
  },
  {
   "cell_type": "code",
   "execution_count": null,
   "metadata": {},
   "outputs": [],
   "source": [
    "#### your code starts here"
   ]
  },
  {
   "cell_type": "markdown",
   "metadata": {},
   "source": [
    "## 3.3 Discussion<a name=\"fine_structure_3\"></a>\n",
    "Discuss briefly all the figures, tables and diagrams and answer to the following questions:\n",
    "  * Is the fine structure of the studied terms in agreement with the Landé interval rule. If not, what is a possible reason for this?\n",
    "<br>\n",
    "  * Do the relative intensities  fulfill the sum rule for multiplets? If not, what is a possible reason for this?\n",
    " <br>\n",
    "  * The hardly visible line around 350 nm correspond to a transition between a triplet and a singlet, which is not allowed in the LS coupling scheme. What transition is this, and why is it at all visible?\n",
    " <br>"
   ]
  },
  {
   "cell_type": "markdown",
   "metadata": {},
   "source": [
    "Discuss your results here."
   ]
  }
 ],
 "metadata": {
  "kernelspec": {
   "display_name": "Python 3",
   "language": "python",
   "name": "python3"
  },
  "language_info": {
   "codemirror_mode": {
    "name": "ipython",
    "version": 3
   },
   "file_extension": ".py",
   "mimetype": "text/x-python",
   "name": "python",
   "nbconvert_exporter": "python",
   "pygments_lexer": "ipython3",
   "version": "3.8.5"
  }
 },
 "nbformat": 4,
 "nbformat_minor": 5
}
